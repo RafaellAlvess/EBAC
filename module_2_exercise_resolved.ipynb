{
  "nbformat": 4,
  "nbformat_minor": 0,
  "metadata": {
    "colab": {
      "name": "module_2_exercise_resolvido.ipynb",
      "provenance": [],
      "collapsed_sections": []
    },
    "kernelspec": {
      "name": "python3",
      "display_name": "Python 3"
    }
  },
  "cells": [
    {
      "cell_type": "markdown",
      "metadata": {
        "id": "KJqp9AANOCtf"
      },
      "source": [
        "<img src=\"https://raw.githubusercontent.com/andre-marcos-perez/ebac-course-utils/main/media/logo/newebac_logo_black_half.png\" alt=\"ebac-logo\">\n",
        "\n",
        "---\n",
        "\n",
        "# **Módulo** | Python: Estruturas de Dados\n",
        "Caderno de **Exercícios**<br> \n",
        "Professor [André Perez](https://www.linkedin.com/in/andremarcosperez/)\n",
        "\n",
        "---"
      ]
    },
    {
      "cell_type": "markdown",
      "metadata": {
        "id": "d9jDtUbDOE1-"
      },
      "source": [
        "# **Tópicos**\n",
        "\n",
        "<ol type=\"1\">\n",
        "  <li>Listas;</li>\n",
        "  <li>Conjuntos;</li>\n",
        "  <li>Dicionários.</li>\n",
        "</ol>"
      ]
    },
    {
      "cell_type": "markdown",
      "metadata": {
        "id": "SmoHgt-lwkpD"
      },
      "source": [
        "---"
      ]
    },
    {
      "cell_type": "markdown",
      "metadata": {
        "id": "GABI6OW8OfQ2"
      },
      "source": [
        "# **Exercícios**"
      ]
    },
    {
      "cell_type": "markdown",
      "metadata": {
        "id": "muD1vxozykSC"
      },
      "source": [
        "## 1\\. Listas"
      ]
    },
    {
      "cell_type": "markdown",
      "metadata": {
        "id": "ahrFfCuBxJKs"
      },
      "source": [
        "Criei uma lista chamada `filmes` com o nome dos 10 primeiros filmes mais bem avaliados no site no [IMDB](https://www.imdb.com/chart/top/). Imprima o resultado."
      ]
    },
    {
      "cell_type": "code",
      "metadata": {
        "id": "OgL6Hv3bzOHI",
        "colab": {
          "base_uri": "https://localhost:8080/"
        },
        "outputId": "c7c63df7-6e33-4547-a477-57bd94bc9954"
      },
      "source": [
        "lista_10_melhores_filmes = ['1. Um Sonho de Liberdade (1994)','2. O Poderoso Chefão (1972)','3. Batman: O Cavaleiro das Trevas (2008)','4. O Poderoso Chefão II (1974)','5. 12 Homens e uma Sentença (1957)','6. A Lista de Schindler (1993)','7. O Senhor dos Anéis: O Retorno do Rei (2003)','8. Pulp Fiction: Tempo de Violência (1994)','9. O Senhor dos Anéis: A Sociedade do Anel (2001)','10. Três Homens em Conflito (1966)']\n",
        "\n",
        "print(lista_10_melhores_filmes)"
      ],
      "execution_count": null,
      "outputs": [
        {
          "output_type": "stream",
          "name": "stdout",
          "text": [
            "['1. Um Sonho de Liberdade (1994)', '2. O Poderoso Chefão (1972)', '3. Batman: O Cavaleiro das Trevas (2008)', '4. O Poderoso Chefão II (1974)', '5. 12 Homens e uma Sentença (1957)', '6. A Lista de Schindler (1993)', '7. O Senhor dos Anéis: O Retorno do Rei (2003)', '8. Pulp Fiction: Tempo de Violência (1994)', '9. O Senhor dos Anéis: A Sociedade do Anel (2001)', '10. Três Homens em Conflito (1966)']\n"
          ]
        }
      ]
    },
    {
      "cell_type": "markdown",
      "metadata": {
        "id": "KI9zQRT2xa7m"
      },
      "source": [
        "Simule a movimentação do *ranking*. Utilize os métodos `insert` e `pop` para trocar a posição do primeiro e do segundo filme da lista. Imprima o resultado.\n",
        "\n"
      ]
    },
    {
      "cell_type": "code",
      "metadata": {
        "id": "zX3mA3_GzrXH",
        "colab": {
          "base_uri": "https://localhost:8080/"
        },
        "outputId": "1408ad40-3657-414b-d7a0-47a45533a97d"
      },
      "source": [
        "lista_filmes = ['Um Sonho de Liberdade','O Poderoso Chefão','Batman: O Cavaleiro das Trevas','O Poderoso Chefão II','12 Homens e uma Sentença','A Lista de Schindler','O Senhor dos Anéis: O Retorno do Rei','Pulp Fiction: Tempo de Violência','O Senhor dos Anéis: A Sociedade do Anel','Três Homens em Conflito']\n",
        "lista_filmes.insert(0,'O Poderoso Chefão')\n",
        "lista_filmes.insert(1,'Um Sonho de Liberdade')\n",
        "lista_filmes.pop(2)\n",
        "lista_filmes.pop(2)\n",
        "print(lista_filmes)"
      ],
      "execution_count": 6,
      "outputs": [
        {
          "output_type": "stream",
          "name": "stdout",
          "text": [
            "['O Poderoso Chefão', 'Um Sonho de Liberdade', 'Batman: O Cavaleiro das Trevas', 'O Poderoso Chefão II', '12 Homens e uma Sentença', 'A Lista de Schindler', 'O Senhor dos Anéis: O Retorno do Rei', 'Pulp Fiction: Tempo de Violência', 'O Senhor dos Anéis: A Sociedade do Anel', 'Três Homens em Conflito']\n"
          ]
        }
      ]
    },
    {
      "cell_type": "markdown",
      "metadata": {
        "id": "zMN1Q3jdwoJm"
      },
      "source": [
        "---"
      ]
    },
    {
      "cell_type": "markdown",
      "metadata": {
        "id": "lxa5L6uF0ZJE"
      },
      "source": [
        "## 2\\. Conjuntos"
      ]
    },
    {
      "cell_type": "markdown",
      "metadata": {
        "id": "9JahS2Kj0d5u"
      },
      "source": [
        "Aconteceu um erro no seu *ranking*. Simule a duplicação dos três últimos filmes da lista. Imprima o resultado."
      ]
    },
    {
      "cell_type": "code",
      "metadata": {
        "id": "BnjnLBNC6PGe",
        "colab": {
          "base_uri": "https://localhost:8080/"
        },
        "outputId": "36ba2927-82ed-4f6c-a35c-9ffb8eeae730"
      },
      "source": [
        "filmes = ['Um Sonho de Liberdade','O Poderoso Chefão','Batman: O Cavaleiro das Trevas','O Poderoso Chefão II','12 Homens e uma Sentença','A Lista de Schindler','O Senhor dos Anéis: O Retorno do Rei','Pulp Fiction: Tempo de Violência','Pulp Fiction: Tempo de Violência','O Senhor dos Anéis: A Sociedade do Anel','O Senhor dos Anéis: A Sociedade do Anel','Três Homens em Conflito','Três Homens em Conflito']\n",
        "print(filmes)\n"
      ],
      "execution_count": null,
      "outputs": [
        {
          "output_type": "stream",
          "name": "stdout",
          "text": [
            "['Um Sonho de Liberdade', 'O Poderoso Chefão', 'Batman: O Cavaleiro das Trevas', 'O Poderoso Chefão II', '12 Homens e uma Sentença', 'A Lista de Schindler', 'O Senhor dos Anéis: O Retorno do Rei', 'Pulp Fiction: Tempo de Violência', 'Pulp Fiction: Tempo de Violência', 'O Senhor dos Anéis: A Sociedade do Anel', 'O Senhor dos Anéis: A Sociedade do Anel', 'Três Homens em Conflito', 'Três Homens em Conflito']\n"
          ]
        }
      ]
    },
    {
      "cell_type": "markdown",
      "metadata": {
        "id": "suxTfCJB6ZiX"
      },
      "source": [
        "Utiliza a conversão `set` e `list` para remover os valores duplicados. Imprima o resultado. "
      ]
    },
    {
      "cell_type": "code",
      "metadata": {
        "id": "ZvUGN-0n6joM",
        "colab": {
          "base_uri": "https://localhost:8080/"
        },
        "outputId": "863e80ce-9e57-4ec3-a79c-7ce9cdae3d1c"
      },
      "source": [
        "filmes = {'Um Sonho de Liberdade','O Poderoso Chefão','Batman: O Cavaleiro das Trevas','O Poderoso Chefão II','12 Homens e uma Sentença','A Lista de Schindler','O Senhor dos Anéis: O Retorno do Rei','Pulp Fiction: Tempo de Violência','Pulp Fiction: Tempo de Violência','O Senhor dos Anéis: A Sociedade do Anel','O Senhor dos Anéis: A Sociedade do Anel','Três Homens em Conflito','Três Homens em Conflito'}\n",
        "print(filmes)\n"
      ],
      "execution_count": null,
      "outputs": [
        {
          "output_type": "stream",
          "name": "stdout",
          "text": [
            "{'Um Sonho de Liberdade', 'Batman: O Cavaleiro das Trevas', 'O Senhor dos Anéis: A Sociedade do Anel', 'A Lista de Schindler', 'O Poderoso Chefão', '12 Homens e uma Sentença', 'Pulp Fiction: Tempo de Violência', 'O Poderoso Chefão II', 'O Senhor dos Anéis: O Retorno do Rei', 'Três Homens em Conflito'}\n"
          ]
        }
      ]
    },
    {
      "cell_type": "code",
      "source": [
        "filmes = list(set(filmes))\n",
        "print(filmes)"
      ],
      "metadata": {
        "colab": {
          "base_uri": "https://localhost:8080/"
        },
        "id": "6SSUT9ciiyk7",
        "outputId": "6231dd82-f66f-4097-a7b5-2d49403b5cd2"
      },
      "execution_count": null,
      "outputs": [
        {
          "output_type": "stream",
          "name": "stdout",
          "text": [
            "['Um Sonho de Liberdade', 'Batman: O Cavaleiro das Trevas', 'O Senhor dos Anéis: A Sociedade do Anel', 'A Lista de Schindler', 'O Poderoso Chefão', '12 Homens e uma Sentença', 'Pulp Fiction: Tempo de Violência', 'O Poderoso Chefão II', 'O Senhor dos Anéis: O Retorno do Rei', 'Três Homens em Conflito']\n"
          ]
        }
      ]
    },
    {
      "cell_type": "markdown",
      "metadata": {
        "id": "ShkK35eQ6pAM"
      },
      "source": [
        "---"
      ]
    },
    {
      "cell_type": "markdown",
      "metadata": {
        "id": "EL_FzmxL6rTv"
      },
      "source": [
        "## 3\\. Dicionários"
      ]
    },
    {
      "cell_type": "markdown",
      "metadata": {
        "id": "i8l0gFqRCpfT"
      },
      "source": [
        "Repita os exercícios da parte 1 (listas). Os elementos da lista `filmes` devem ser dicionários no seguinte formato: `{'nome': <nome-do-filme>, 'ano': <ano do filme>}, 'sinopse': <sinopse do filme>}`. "
      ]
    },
    {
      "cell_type": "code",
      "source": [
        "lista_filmes = []\n",
        "lista_filmes.append({'Nome':'Um Sonho de Liberdade','Ano':1994,'Sinopse':'A história do ex-sucedido banqueiro Andy Dufresne (Tim Robbins), que se torna prisioneiro da tenebrosa penitenciária de Shawshank, depois de ser declarado culpado de um crime em que afirma não ter cometido. O filme retrata o modo que o homem encontra para lidar com essa sua nova e torturante vida ao mesmo tempo em que faz amizade com outros detentos, mais especificamente com o sábio preso de longa data chamado Red (Morgan Freeman).'})\n",
        "lista_filmes.append({'Nome':'O poderoso chefao','ano':1972,'sinopse':'Uma família mafiosa luta para estabelecer sua supremacia nos Estados Unidos depois da Segunda Guerra Mundial. Uma tentativa de assassinato deixa o chefão Vito Corleone incapacitado e força os filhos Michael e Sonny a assumir os negócios.'})\n",
        "lista_filmes.append({'Nome':'Batman: O Cavaleiro das Trevas','Ano': 2008,'Sinopse':'Com a ajuda de Jim Gordon e Harvey Dent, Batman tem mantido a ordem na cidade de Gotham. Mas um jovem e anárquico criminoso conhecido como Coringa ganha força e decide instaurar um verdadeiro caos na cidade. O justiceiro será testado psicologicamente e fisicamente como nunca fora antes em um confronto bastante pessoal. Cabe a Batman encontrar uma maneira de deter o sádico vilão antes que mais vidas sejam perdidas.'})\n",
        "lista_filmes.append({'Nome':'O Poderoso Chefão II','Ano':1974,'Sinopse':'Início do século XX. Após a máfia local matar sua família, o jovem Vito (Robert De Niro) foge da sua cidade na Sicília e vai para a América. Já adulto em Little Italy, Vito luta para ganhar a vida (legal ou ilegalmente) e manter sua esposa e filhos.'})\n",
        "lista_filmes.append({'Nome':'12 Homens e uma Sentença','Ano':1957,'Sinopse':'Um jovem latino é acusado de cometer um crime. Para julgá-lo são convocados 12 jurados, sendo que 11 concordam que ele é culpado, porém apenas um discorda da decisão, que considera precipitada. Ele terá então que enfrentar a má vontade dos outros jurados e também a diferente interpretação dos fatos. No entanto, todos serão obrigados a rever os fatos e circunstâncias do crime para defender sua decisão.'})\n",
        "lista_filmes.append({'Nome':'A Lista de Schindler','Ano':1993,'Sinopse':'A Lista de Schindler é a história real e emocionante do empresário alemão Oskar Schindler, que num gesto humanitário de extrema ousadia salvou a vida de milhares de judeus, ao mesmo tempo em que contava com o apoio dos nazistas. Aparentando desinteresse pela política, e fingindo explorar o baixo custo da mão-de-obra judia, o que Schindler fazia era empregar inocentes que de outra forma morreriam nos campos do Holocausto.'})\n",
        "lista_filmes.append({'Nome':'O Senhor dos Anéis: O Retorno do Rei','Ano':2003,'Sinopse':'Sauron planeja um grande ataque a Minas Tirith, capital de Gondor, o que faz com que Gandalf (Ian McKellen) e Pippin (Billy Boyd) partam para o local na intenção de ajudar a resistência. Um exército é reunido por Theoden (Bernard Hill) em Rohan, em mais uma tentativa de deter as forças de Sauron. Enquanto isso Frodo (Elijah Wood), Sam (Sean Astin) e Gollum (Andy Serkins) seguem sua viagem rumo à Montanha da Perdição, para destruir o Um Anel.'})\n",
        "lista_filmes.append({'Nome':'Pulp Fiction: Tempo de Violência','Ano':1994,'Sinopse':'Um casal de bandidos pobres, debatem as dificuldades de seu “trabalho” saboreando um fast-food americano pela manhã. Em seguida, fazem uma declaração de amor, e anunciam um assalto.'})\n",
        "lista_filmes.append({'Nome':'O Senhor dos Anéis: A Sociedade do Anel','Ano':2001,'Sinopse':'A Sociedade do Anel começa no Condado, a região rural do oeste da Terra-média onde vivem os diminutos e pacatos hobbits. Bilbo Bolseiro, um dos raros aventureiros desse povo, cujas peripécias foram contadas em O Hobbit, resolve ir embora do Condado e deixa sua considerável herança nas mãos de seu jovem parente Frodo.'})\n",
        "lista_filmes.append({'Nome':'Três Homens em Conflito','Ano':1966,'Sinopse':'Terceiro filme da \"Trilogia do Homem Sem Nome\", ou \"Trilogia dos Dólares\". Durante a Guerra Civil Americana, três homens travam uma batalha paralela para encontrar 200 mil dólares em ouro roubado.'})\n",
        "\n",
        "print(lista_filmes)"
      ],
      "metadata": {
        "colab": {
          "base_uri": "https://localhost:8080/"
        },
        "id": "2Gqj02puOtGP",
        "outputId": "4e97301f-ca55-49c1-9561-67ecefaf54f2"
      },
      "execution_count": 7,
      "outputs": [
        {
          "output_type": "stream",
          "name": "stdout",
          "text": [
            "[{'Nome': 'Um Sonho de Liberdade', 'Ano': 1994, 'Sinopse': 'A história do ex-sucedido banqueiro Andy Dufresne (Tim Robbins), que se torna prisioneiro da tenebrosa penitenciária de Shawshank, depois de ser declarado culpado de um crime em que afirma não ter cometido. O filme retrata o modo que o homem encontra para lidar com essa sua nova e torturante vida ao mesmo tempo em que faz amizade com outros detentos, mais especificamente com o sábio preso de longa data chamado Red (Morgan Freeman).'}, {'Nome': 'O poderoso chefao', 'ano': 1972, 'sinopse': 'Uma família mafiosa luta para estabelecer sua supremacia nos Estados Unidos depois da Segunda Guerra Mundial. Uma tentativa de assassinato deixa o chefão Vito Corleone incapacitado e força os filhos Michael e Sonny a assumir os negócios.'}, {'Nome': 'Batman: O Cavaleiro das Trevas', 'Ano': 2008, 'Sinopse': 'Com a ajuda de Jim Gordon e Harvey Dent, Batman tem mantido a ordem na cidade de Gotham. Mas um jovem e anárquico criminoso conhecido como Coringa ganha força e decide instaurar um verdadeiro caos na cidade. O justiceiro será testado psicologicamente e fisicamente como nunca fora antes em um confronto bastante pessoal. Cabe a Batman encontrar uma maneira de deter o sádico vilão antes que mais vidas sejam perdidas.'}, {'Nome': 'O Poderoso Chefão II', 'Ano': 1974, 'Sinopse': 'Início do século XX. Após a máfia local matar sua família, o jovem Vito (Robert De Niro) foge da sua cidade na Sicília e vai para a América. Já adulto em Little Italy, Vito luta para ganhar a vida (legal ou ilegalmente) e manter sua esposa e filhos.'}, {'Nome': '12 Homens e uma Sentença', 'Ano': 1957, 'Sinopse': 'Um jovem latino é acusado de cometer um crime. Para julgá-lo são convocados 12 jurados, sendo que 11 concordam que ele é culpado, porém apenas um discorda da decisão, que considera precipitada. Ele terá então que enfrentar a má vontade dos outros jurados e também a diferente interpretação dos fatos. No entanto, todos serão obrigados a rever os fatos e circunstâncias do crime para defender sua decisão.'}, {'Nome': 'A Lista de Schindler', 'Ano': 1993, 'Sinopse': 'A Lista de Schindler é a história real e emocionante do empresário alemão Oskar Schindler, que num gesto humanitário de extrema ousadia salvou a vida de milhares de judeus, ao mesmo tempo em que contava com o apoio dos nazistas. Aparentando desinteresse pela política, e fingindo explorar o baixo custo da mão-de-obra judia, o que Schindler fazia era empregar inocentes que de outra forma morreriam nos campos do Holocausto.'}, {'Nome': 'O Senhor dos Anéis: O Retorno do Rei', 'Ano': 2003, 'Sinopse': 'Sauron planeja um grande ataque a Minas Tirith, capital de Gondor, o que faz com que Gandalf (Ian McKellen) e Pippin (Billy Boyd) partam para o local na intenção de ajudar a resistência. Um exército é reunido por Theoden (Bernard Hill) em Rohan, em mais uma tentativa de deter as forças de Sauron. Enquanto isso Frodo (Elijah Wood), Sam (Sean Astin) e Gollum (Andy Serkins) seguem sua viagem rumo à Montanha da Perdição, para destruir o Um Anel.'}, {'Nome': 'Pulp Fiction: Tempo de Violência', 'Ano': 1994, 'Sinopse': 'Um casal de bandidos pobres, debatem as dificuldades de seu “trabalho” saboreando um fast-food americano pela manhã. Em seguida, fazem uma declaração de amor, e anunciam um assalto.'}, {'Nome': 'O Senhor dos Anéis: A Sociedade do Anel', 'Ano': 2001, 'Sinopse': 'A Sociedade do Anel começa no Condado, a região rural do oeste da Terra-média onde vivem os diminutos e pacatos hobbits. Bilbo Bolseiro, um dos raros aventureiros desse povo, cujas peripécias foram contadas em O Hobbit, resolve ir embora do Condado e deixa sua considerável herança nas mãos de seu jovem parente Frodo.'}, {'Nome': 'Três Homens em Conflito', 'Ano': 1966, 'Sinopse': 'Terceiro filme da \"Trilogia do Homem Sem Nome\", ou \"Trilogia dos Dólares\". Durante a Guerra Civil Americana, três homens travam uma batalha paralela para encontrar 200 mil dólares em ouro roubado.'}]\n"
          ]
        }
      ]
    }
  ]
}