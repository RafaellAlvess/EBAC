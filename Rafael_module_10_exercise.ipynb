{
  "nbformat": 4,
  "nbformat_minor": 0,
  "metadata": {
    "colab": {
      "name": "Rafael_module_10_exercise.ipynb",
      "provenance": [],
      "collapsed_sections": []
    },
    "kernelspec": {
      "name": "python3",
      "display_name": "Python 3"
    }
  },
  "cells": [
    {
      "cell_type": "markdown",
      "metadata": {
        "id": "KJqp9AANOCtf"
      },
      "source": [
        "<img src=\"https://raw.githubusercontent.com/andre-marcos-perez/ebac-course-utils/main/media/logo/newebac_logo_black_half.png\" alt=\"ebac-logo\">\n",
        "\n",
        "---\n",
        "\n",
        "# **Módulo** | Análise de Dados: Coleta de Dados I\n",
        "Caderno de **Exercícios**<br> \n",
        "Professor [André Perez](https://www.linkedin.com/in/andremarcosperez/)\n",
        "\n",
        "---"
      ]
    },
    {
      "cell_type": "markdown",
      "metadata": {
        "id": "d9jDtUbDOE1-"
      },
      "source": [
        "# **Tópicos**\n",
        "\n",
        "<ol type=\"1\">\n",
        "  <li>Arquivos CSV;</li>\n",
        "  <li>Arquivos Texto;</li>\n",
        "  <li>Arquivos Excel.</li>\n",
        "</ol>"
      ]
    },
    {
      "cell_type": "markdown",
      "metadata": {
        "id": "SmoHgt-lwkpD"
      },
      "source": [
        "---"
      ]
    },
    {
      "cell_type": "markdown",
      "metadata": {
        "id": "GABI6OW8OfQ2"
      },
      "source": [
        "# **Exercícios**"
      ]
    },
    {
      "cell_type": "markdown",
      "metadata": {
        "id": "muD1vxozykSC"
      },
      "source": [
        "## 0\\. Preparando o ambiente"
      ]
    },
    {
      "cell_type": "markdown",
      "metadata": {
        "id": "ByX7SUjNKk2K"
      },
      "source": [
        "Vamos explorar dados de crédito presentes no arquivo `credito.xlsx` ([link](https://raw.githubusercontent.com/andre-marcos-perez/ebac-course-utils/develop/dataset/credito.xlsx)). Os dados estão no formato de **Excel** (XLSX) e contém informações sobre clientes de uma instituição financeira. Em especial, estamos interessados em explicar a segunda coluna, chamada de **default**, que indica se um cliente é adimplente (`default = 0`), ou inadimplente (`default = 1`), ou seja, queremos entender o porque um cliente deixa de honrar com suas dívidas baseado no comportamento de outros atributos, como salário, escolaridade e movimentação financeira. Uma descrição completa dos atributos está abaixo."
      ]
    },
    {
      "cell_type": "markdown",
      "metadata": {
        "id": "Z5Fd0NSVLnwE"
      },
      "source": [
        "\n",
        "\n",
        "| Coluna  | Descrição |\n",
        "| ------- | --------- |\n",
        "| id      | Número da conta |\n",
        "| default | Indica se o cliente é adimplente (0) ou inadimplente (1) |\n",
        "| idade   | --- |\n",
        "| sexo    | --- |\n",
        "| depedentes | --- |\n",
        "| escolaridade | --- |\n",
        "| estado_civil | --- |\n",
        "| salario_anual | Faixa do salario mensal multiplicado por 12 |\n",
        "| tipo_cartao | Categoria do cartao: blue, silver, gold e platinium |\n",
        "| meses_de_relacionamento | Quantidade de meses desde a abertura da conta |\n",
        "| qtd_produtos | Quantidade de produtos contratados |\n",
        "| iteracoes_12m | Quantidade de iteracoes com o cliente no último ano |\n",
        "| meses_inatico_12m | Quantidade de meses que o cliente ficou inativo no último ano |\n",
        "| limite_credito | Valor do limite do cartão de crédito |\n",
        "| valor_transacoes_12m | Soma total do valor das transações no cartão de crédito no último ano |\n",
        "| qtd_transacoes_12m | Quantidade total de transações no cartão de crédito no último ano |\n",
        "\n"
      ]
    },
    {
      "cell_type": "markdown",
      "metadata": {
        "id": "peEbZE2vcMaH"
      },
      "source": [
        "Faça o download do arquivo `credito.xlsx` com a célula de código abaixo."
      ]
    },
    {
      "cell_type": "code",
      "metadata": {
        "id": "hyG8xFuWc16L",
        "outputId": "d17db7ad-f7f0-4169-df1c-78709baced40",
        "colab": {
          "base_uri": "https://localhost:8080/"
        }
      },
      "source": [
        "!wget --show-progress --continue -O ./credito.xlsx https://raw.githubusercontent.com/andre-marcos-perez/ebac-course-utils/main/dataset/credito.xlsx"
      ],
      "execution_count": 1,
      "outputs": [
        {
          "output_type": "stream",
          "name": "stdout",
          "text": [
            "--2022-08-06 12:39:49--  https://raw.githubusercontent.com/andre-marcos-perez/ebac-course-utils/main/dataset/credito.xlsx\n",
            "Resolving raw.githubusercontent.com (raw.githubusercontent.com)... 185.199.108.133, 185.199.111.133, 185.199.109.133, ...\n",
            "Connecting to raw.githubusercontent.com (raw.githubusercontent.com)|185.199.108.133|:443... connected.\n",
            "HTTP request sent, awaiting response... 200 OK\n",
            "Length: 748185 (731K) [application/octet-stream]\n",
            "Saving to: ‘./credito.xlsx’\n",
            "\n",
            "./credito.xlsx      100%[===================>] 730.65K  --.-KB/s    in 0.04s   \n",
            "\n",
            "2022-08-06 12:39:49 (16.3 MB/s) - ‘./credito.xlsx’ saved [748185/748185]\n",
            "\n"
          ]
        }
      ]
    },
    {
      "cell_type": "markdown",
      "metadata": {
        "id": "zMN1Q3jdwoJm"
      },
      "source": [
        "---"
      ]
    },
    {
      "cell_type": "markdown",
      "metadata": {
        "id": "GWgNoJN8DHyY"
      },
      "source": [
        "## 1\\. Excel para CSV"
      ]
    },
    {
      "cell_type": "markdown",
      "metadata": {
        "id": "YynK1vf2DHyj"
      },
      "source": [
        "Utilizando o pacote Python `openpyxl` visto em aula, extraia os seguintes as colunas `id`, `sexo` e `idade` para dos clientes inadimplentes (`default = 1`) e solteiros (`estado_civil = 'solteiro'`). Salves os dados extraídos no arquivo csv `credito.csv` separado por `;`. Exemplo do cabeçalho e das três primeiras linhas:\n",
        "\n",
        "```\n",
        "id;sexo;idade\n",
        "767712558;59;M\n",
        "713741358;46;M\n",
        "772390908;59;M\n",
        "```\n",
        "\n",
        "**Dica:** O arquivo csv `credito.csv` deve ter 669 linhas, contando com o cabeçalho.\n",
        "\n",
        "**Nota:** Escreva o código da sua solução abaixo em uma ou mais células, você não precisa enviar o arquivo csv gerado."
      ]
    },
    {
      "cell_type": "code",
      "source": [
        "!pip install openpyxl"
      ],
      "metadata": {
        "colab": {
          "base_uri": "https://localhost:8080/"
        },
        "id": "8ZzsAdjIjkbc",
        "outputId": "69524e39-0409-48bc-e536-33e2c5187935"
      },
      "execution_count": 2,
      "outputs": [
        {
          "output_type": "stream",
          "name": "stdout",
          "text": [
            "Looking in indexes: https://pypi.org/simple, https://us-python.pkg.dev/colab-wheels/public/simple/\n",
            "Requirement already satisfied: openpyxl in /usr/local/lib/python3.7/dist-packages (3.0.10)\n",
            "Requirement already satisfied: et-xmlfile in /usr/local/lib/python3.7/dist-packages (from openpyxl) (1.1.0)\n"
          ]
        }
      ]
    },
    {
      "cell_type": "code",
      "metadata": {
        "id": "hVK8QyFvE-wk",
        "colab": {
          "base_uri": "https://localhost:8080/"
        },
        "outputId": "762aea7c-ba32-4550-812d-a788e310b91b"
      },
      "source": [
        "# Resolução do exercício 1\n",
        "from openpyxl import Workbook, load_workbook\n",
        "import csv\n",
        "\n",
        "# lendo as planilhas\n",
        "planilhas = load_workbook(filename='credito.xlsx')\n",
        "planilha = planilhas.active\n",
        "\n",
        "# definindo as listas\n",
        "default = []\n",
        "id = []\n",
        "sexo = []\n",
        "idade = []\n",
        "\n",
        "# definindo cabeçalhos\n",
        "cabecalho = next(planilha.values)\n",
        "indice_default = cabecalho.index('default')\n",
        "indice_id = cabecalho.index('id')\n",
        "indice_sexo = cabecalho.index('sexo')\n",
        "indice_idade = cabecalho.index('idade')\n",
        "indice_es = cabecalho.index('estado_civil')\n",
        "\n",
        "# salvando os dados em listas\n",
        "default = [linha[indice_default] for linha in planilha.values if linha[indice_default] != 'default' and linha[indice_default]== 1]\n",
        "id = [linha[indice_id] for linha in planilha.values if linha[indice_default]== 1 and linha[indice_es] == 'solteiro']\n",
        "sexo = [linha[indice_sexo] for linha in planilha.values if linha[indice_default] == 1 and linha[indice_es] == 'solteiro']\n",
        "idade = [linha[indice_idade] for linha in planilha.values if linha[indice_default] == 1 and linha[indice_es] == 'solteiro']\n",
        "\n",
        "# escrevendo arquivo csv\n",
        "with open(file='./credito.csv', mode='w', encoding='utf8') as arquivo:\n",
        "  escritor_csv = csv.writer(arquivo, delimiter=';')\n",
        "  escritor_csv.writerows([['id','sexo','idade']] + list(map(lambda id,sexo,idade: [id]+[sexo]+[idade],id,sexo,idade)))\n",
        "\n",
        "print(arquivo)"
      ],
      "execution_count": 4,
      "outputs": [
        {
          "output_type": "stream",
          "name": "stdout",
          "text": [
            "<_io.TextIOWrapper name='./credito.csv' mode='w' encoding='utf8'>\n"
          ]
        }
      ]
    },
    {
      "cell_type": "markdown",
      "metadata": {
        "id": "waxn4B2UDHyl"
      },
      "source": [
        "---"
      ]
    },
    {
      "cell_type": "markdown",
      "metadata": {
        "id": "finLQoyyGVmk"
      },
      "source": [
        "## 2\\. Excel para JSON"
      ]
    },
    {
      "cell_type": "markdown",
      "metadata": {
        "id": "99BrnqR4GVmy"
      },
      "source": [
        "Como preparação para o próximo módulo, vamos trabalhar com o JSON, um formato semi-estruturado, muito utilizado em transmissão de dados da web e equivalente a um **dicionário** Python."
      ]
    },
    {
      "cell_type": "markdown",
      "metadata": {
        "id": "AQqks_tohV8k"
      },
      "source": [
        "Utilizando o pacote Python `openpyxl` visto em aula, extraia os dados das colunas `escolaridade` e `tipo_cartao`, removendo duplicados. Com os dados, construa o dicionário Python `credito` com a seguinte estrutura:\n",
        "\n",
        "```python\n",
        "credito = {\n",
        "  'tipo_cartao': ['silver', 'blue', 'gold', 'platinum'],\n",
        "  'escolaridade': ['doutorado', 'mestrado', 'na', 'sem educacao formal', 'graduacao', 'ensino medio']\n",
        "}\n",
        "```\n",
        "\n",
        "Para finalizar, utilize o código abaixo para converter o dicionário `credito` no formato JSON:\n",
        "\n",
        "```python\n",
        "import json\n",
        "\n",
        "credito_json = json.dumps(credito, indent=4)\n",
        "print(credito_json)\n",
        "```\n",
        "\n",
        "**Dica:** Sua solução deve gerar o dicionário Python `credito` igual ao exemplo mas a ordem dos elementos pode variar tranquilamente.\n",
        "\n",
        "**Dica:** Uma excelente forma de remover elementos duplicados de uma lista é convertê-la para `set` e depois para `list` novamente.\n",
        "\n"
      ]
    },
    {
      "cell_type": "code",
      "metadata": {
        "id": "pCMQ5vBPjSXn",
        "colab": {
          "base_uri": "https://localhost:8080/"
        },
        "outputId": "1984bca3-6ddd-4909-cce7-861149455618"
      },
      "source": [
        "# solução do exercício 2\n",
        "from openpyxl import load_workbook\n",
        "import csv\n",
        "import json\n",
        "\n",
        "# lendo as planilhas\n",
        "planilhas = load_workbook(filename='credito.xlsx')\n",
        "planilha = planilhas.active\n",
        "\n",
        "# definindo as listas\n",
        "escolaridade = []\n",
        "tipo_cartao = []\n",
        "\n",
        "# cabeçalhos\n",
        "cabecalho = next(planilha.values)\n",
        "indice_escolaridade = cabecalho.index('escolaridade')\n",
        "indice_tipo_cartao = cabecalho.index('tipo_cartao')\n",
        "\n",
        "# salvando os dados na lista\n",
        "escolaridade = set([linha[indice_escolaridade] for linha in planilha.values if linha[indice_escolaridade] != 'escolaridade'])\n",
        "tipo_cartao = set([linha[indice_tipo_cartao] for linha in planilha.values if linha[indice_tipo_cartao] != 'tipo_cartao'])\n",
        "\n",
        "# escrevendo dicionario\n",
        "credito = {'tipo_cartao': list(tipo_cartao), 'escolaridade': list(escolaridade)}\n",
        "\n",
        "# criando no formato json\n",
        "credito_json = json.dumps(credito, indent=4)\n",
        "print(credito_json)"
      ],
      "execution_count": 5,
      "outputs": [
        {
          "output_type": "stream",
          "name": "stdout",
          "text": [
            "{\n",
            "    \"tipo_cartao\": [\n",
            "        \"platinum\",\n",
            "        \"blue\",\n",
            "        \"gold\",\n",
            "        \"silver\"\n",
            "    ],\n",
            "    \"escolaridade\": [\n",
            "        \"ensino medio\",\n",
            "        \"mestrado\",\n",
            "        \"graduacao\",\n",
            "        \"na\",\n",
            "        \"doutorado\",\n",
            "        \"sem educacao formal\"\n",
            "    ]\n",
            "}\n"
          ]
        }
      ]
    },
    {
      "cell_type": "markdown",
      "metadata": {
        "id": "As3enQc2GVm1"
      },
      "source": [
        "---"
      ]
    },
    {
      "cell_type": "markdown",
      "metadata": {
        "id": "SS1PxxfHILHs"
      },
      "source": [
        "## 3\\. BÔNUS: Texto para CSV"
      ]
    },
    {
      "cell_type": "markdown",
      "metadata": {
        "id": "i3f-X7y23onm"
      },
      "source": [
        "No arquivo de texto `ebac.txt` você encontra o texto presente no rodapé da página de cursos da EBAC ([link](https://ebaconline.com.br/)).\n",
        "\n"
      ]
    },
    {
      "cell_type": "markdown",
      "metadata": {
        "id": "nKDF9EBH3onp"
      },
      "source": [
        "**Arquivo TXT:** ebac.txt"
      ]
    },
    {
      "cell_type": "code",
      "metadata": {
        "id": "Pyyj5VNnb16w",
        "colab": {
          "base_uri": "https://localhost:8080/"
        },
        "outputId": "415fb07e-5036-4865-f469-28348b9f0a32"
      },
      "source": [
        "%%writefile ebac.txt\n",
        "MÍDIAS SOCIAIS\n",
        "Instagram, Facebook, Youtube, LinkedIn \n",
        "\n",
        "CURSOS\n",
        "Software, Design, Marketing, Audiovisual, Programação & Data, Games\n",
        "\n",
        "WEBINARS\n",
        "Próximos, Anteriores\n",
        "\n",
        "SOBRE\n",
        "Sobre nós, Centro de carreiras, Vagas\n",
        "\n",
        "CONTATO\n",
        "WhatsApp +55 (11) 4200-2991\n",
        "Telefone +55 (11) 3030-3200\n",
        "\n",
        "BLOG\n",
        "Design, Audiovisual, Marketing"
      ],
      "execution_count": 6,
      "outputs": [
        {
          "output_type": "stream",
          "name": "stdout",
          "text": [
            "Writing ebac.txt\n"
          ]
        }
      ]
    },
    {
      "cell_type": "markdown",
      "metadata": {
        "id": "R4hMJ6D2ILH3"
      },
      "source": [
        "Extraia os números de contato do arquivo texto `ebac.txt` e salve-os no arquivo csv `contato_ebac.csv` com o separador `;` no seguinte formato:\n",
        "\n",
        "```\n",
        "tipo;numero\n",
        "whatsapp;+551142002991\n",
        "telefone;+551130303200\n",
        "```\n",
        "\n",
        "**Nota:** Escreva o código da sua solução abaixo em uma ou mais células, você não precisa enviar o arquivo csv gerado."
      ]
    },
    {
      "cell_type": "code",
      "metadata": {
        "id": "ogZClDvTILH3"
      },
      "source": [
        "# solução do exercício 3 (bônus)\n",
        "import re\n",
        "import csv\n",
        "\n",
        "with open(file='./ebac.txt', mode='r', encoding='utf8') as arquivo:\n",
        "  texto = arquivo.read()\n",
        "\n",
        "# extraindo telefones\n",
        "tel_extraido = re.findall('\\S+\\d+\\S+', texto)  #re.findall('.\\d.+')\n",
        "tel1 = ''.join(tel_extraido[0:3])\n",
        "tel2 = ''.join(tel_extraido[3:6])\n",
        "lista_tel = [tel1,tel2]\n",
        "tipo = ['whatsapp', 'telefone']\n",
        "\n",
        "# escrevendo arquivo csv\n",
        "with open(file='./contato_ebac.csv', mode='w', encoding='utf8') as arquivo:\n",
        "  escritor_csv = csv.writer(arquivo, delimiter=';')\n",
        "  escritor_csv.writerows([['tipo','numero']] + list(map(lambda tipo,numero: [tipo]+[numero] ,tipo, lista_tel)))"
      ],
      "execution_count": 7,
      "outputs": []
    },
    {
      "cell_type": "code",
      "source": [
        "# solução do exercício 3 (bônus)\n",
        "import re\n",
        "import csv\n",
        "\n",
        "tipo = []\n",
        "tel = []\n",
        "\n",
        "with open(file='./ebac.txt', mode='r', encoding='utf8') as arquivo:\n",
        "  texto = arquivo.read()\n",
        "\n",
        "# extraindo telefones\n",
        "wpp_extraido = re.findall('Wh.+', texto)\n",
        "wpp_extraido = str(wpp_extraido)\n",
        "div = wpp_extraido.strip(r\"[]' \").split(' ',1)\n",
        "tipo.append(div[0])\n",
        "tel.append(div[1])\n",
        "\n",
        "tel_extraido = re.findall('Tel.+', texto)\n",
        "tel_extraido = str(tel_extraido)\n",
        "dividindo = tel_extraido.strip(r\"[]' \").split(' ',1)\n",
        "\n",
        "tipo.append(dividindo[0])\n",
        "tel.append(dividindo[1])\n",
        "\n",
        "\n",
        "# escrevendo arquivo csv\n",
        "with open(file='./contato_ebac.csv', mode='w', encoding='utf8') as arquivo:\n",
        "  escritor_csv = csv.writer(arquivo, delimiter=';')\n",
        "  escritor_csv.writerows([['tipo','numero']] + list(map(lambda tipo,numero: [tipo]+[numero] ,tipo, tel)))"
      ],
      "metadata": {
        "id": "8dyCQbl8XuD2"
      },
      "execution_count": 8,
      "outputs": []
    },
    {
      "cell_type": "markdown",
      "metadata": {
        "id": "Fx--J2bOILH4"
      },
      "source": [
        "---"
      ]
    }
  ]
}